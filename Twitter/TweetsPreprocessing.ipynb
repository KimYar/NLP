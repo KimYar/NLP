{
  "nbformat": 4,
  "nbformat_minor": 0,
  "metadata": {
    "colab": {
      "name": "TweetsPreprocessing.ipynb",
      "provenance": [],
      "authorship_tag": "ABX9TyPQj1P8ORarOXPPPZ5OikcX"
    },
    "kernelspec": {
      "name": "python3",
      "display_name": "Python 3"
    }
  },
  "cells": [
    {
      "cell_type": "code",
      "metadata": {
        "id": "CVK0cI3XpOse",
        "colab_type": "code",
        "colab": {}
      },
      "source": [
        "import nltk\n",
        "from nltk.corpus import twitter_samples\n",
        "import random\n",
        "import re\n",
        "import matplotlib.pyplot as plt\n",
        "import string\n",
        "from nltk.corpus import stopwords\n",
        "from nltk.stem import PorterStemmer\n",
        "from nltk.tokenize import TweetTokenizer"
      ],
      "execution_count": 1,
      "outputs": []
    },
    {
      "cell_type": "code",
      "metadata": {
        "id": "_FnAfF61pc1I",
        "colab_type": "code",
        "colab": {
          "base_uri": "https://localhost:8080/",
          "height": 102
        },
        "outputId": "99ba4cca-e1e8-4cce-d508-8d4f6cef71bc"
      },
      "source": [
        "nltk.download('twitter_samples') #Download nltk twitter sample file\n",
        "nltk.download('stopwords') #Download stopwords"
      ],
      "execution_count": 2,
      "outputs": [
        {
          "output_type": "stream",
          "text": [
            "[nltk_data] Downloading package twitter_samples to /root/nltk_data...\n",
            "[nltk_data]   Package twitter_samples is already up-to-date!\n",
            "[nltk_data] Downloading package stopwords to /root/nltk_data...\n",
            "[nltk_data]   Package stopwords is already up-to-date!\n"
          ],
          "name": "stdout"
        },
        {
          "output_type": "execute_result",
          "data": {
            "text/plain": [
              "True"
            ]
          },
          "metadata": {
            "tags": []
          },
          "execution_count": 2
        }
      ]
    },
    {
      "cell_type": "code",
      "metadata": {
        "id": "k59kAGfap3ix",
        "colab_type": "code",
        "colab": {}
      },
      "source": [
        "all_positive_tweets = twitter_samples.strings('positive_tweets.json')\n",
        "all_negative_tweets = twitter_samples.strings('negative_tweets.json')"
      ],
      "execution_count": 3,
      "outputs": []
    },
    {
      "cell_type": "code",
      "metadata": {
        "id": "EXPNd0joqSOg",
        "colab_type": "code",
        "colab": {}
      },
      "source": [
        "tweets = all_positive_tweets + all_negative_tweets  #make a list of all 10000 tweets\n",
        "#tweets[946]"
      ],
      "execution_count": 4,
      "outputs": []
    },
    {
      "cell_type": "code",
      "metadata": {
        "id": "B3Ac7s0YrWZN",
        "colab_type": "code",
        "colab": {}
      },
      "source": [
        "#Removing email addresses, hyperlinks, hashtags, RT(retweets)\n",
        "preprocessed_tweets = []\n",
        "for tweet in tweets:\n",
        "    tweet = re.sub(r'^RT[\\s]+', '', tweet)\n",
        "    tweet = re.sub(r'https?:\\/\\/.*[\\r\\n]*', '', tweet)\n",
        "    tweet = re.sub(r'#','', tweet)\n",
        "    tweet = re.sub(r'[a-zA-Z0-9-_]+@[a-zA-Z0-9-_]+.[a-zA-Z]+','', tweet)\n",
        "    preprocessed_tweets.append(tweet)\n",
        "#preprocessed_tweets[946]"
      ],
      "execution_count": 5,
      "outputs": []
    },
    {
      "cell_type": "code",
      "metadata": {
        "id": "0b8HhChtsTnl",
        "colab_type": "code",
        "colab": {}
      },
      "source": [
        "#Tokenizing tweets\n",
        "tokenizer = TweetTokenizer(strip_handles=True, reduce_len=True,  preserve_case=False)\n",
        "tokenized_tweets =[]\n",
        "for tweet in preprocessed_tweets:\n",
        "    tokenized_tweets.append(tokenizer.tokenize(tweet))\n",
        "#tokenized_tweets[946]"
      ],
      "execution_count": 6,
      "outputs": []
    },
    {
      "cell_type": "code",
      "metadata": {
        "id": "568zundZIVKt",
        "colab_type": "code",
        "colab": {}
      },
      "source": [
        "#Customizing stopwords list,keeping some words for meaning\n",
        "english_stopwords = stopwords.words('english')\n",
        "wanted_stopwords = [ 'don', \"don't\", 'aren', \"aren't\", 'couldn', \"couldn't\", 'didn', \"didn't\", 'doesn', \"doesn't\", 'hadn', \"hadn't\", 'hasn', \"hasn't\", 'haven', \"haven't\", 'isn', \"isn't\", 'mightn', \"mightn't\", 'mustn', \"mustn't\", 'needn', \"needn't\", 'shan', \"shan't\", 'shouldn', \"shouldn't\", 'wasn', \"wasn't\", 'weren', \"weren't\", 'won', \"won't\", 'wouldn', \"wouldn't\",'no', 'nor', 'not','ain']\n",
        "for wanted_stopword in wanted_stopwords:\n",
        "    if wanted_stopword in english_stopwords:\n",
        "        english_stopwords.remove(wanted_stopword)"
      ],
      "execution_count": 7,
      "outputs": []
    },
    {
      "cell_type": "code",
      "metadata": {
        "id": "2wS7e9EMNPUH",
        "colab_type": "code",
        "colab": {}
      },
      "source": [
        "#Removing stopwords but keeping emoticon\n",
        "clean_tweets = []\n",
        "for tweet in tokenized_tweets:\n",
        "    t = []\n",
        "    for word in tweet:\n",
        "        if word not in english_stopwords:\n",
        "            t.append(word) \n",
        "      \n",
        "    clean_tweets.append(t)\n",
        "\n",
        "#clean_tweets[946]"
      ],
      "execution_count": 8,
      "outputs": []
    },
    {
      "cell_type": "code",
      "metadata": {
        "id": "VMm6yhgMP-cK",
        "colab_type": "code",
        "colab": {}
      },
      "source": [
        "#Stemming tweets\n",
        "stemmer = PorterStemmer()\n",
        "stemmed_tweets = []\n",
        "for tweet in clean_tweets:\n",
        "    stemmed_tweet = []\n",
        "    for word in tweet:\n",
        "        stemmed_tweet.append(stemmer.stem(word))\n",
        "    stemmed_tweets.append(stemmed_tweet)\n",
        "#stemmed_tweets[946]"
      ],
      "execution_count": 9,
      "outputs": []
    },
    {
      "cell_type": "markdown",
      "metadata": {
        "id": "2FKMaW6GiZOM",
        "colab_type": "text"
      },
      "source": [
        "**Resources:**         \n",
        "\n",
        "Coursera Machine Learning Course by Andrew Ng"
      ]
    },
    {
      "cell_type": "markdown",
      "metadata": {
        "id": "4WBm5j2UkCJe",
        "colab_type": "text"
      },
      "source": [
        "In this project, by using NLTK library will work on \"twitter_samples\" corpus to make the data ready for some NLP downstream tasks.\n",
        "\n"
      ]
    },
    {
      "cell_type": "markdown",
      "metadata": {
        "id": "bnf8fYb5kfjc",
        "colab_type": "text"
      },
      "source": [
        "Following are the preprocessing steps with an example:\n",
        "\n",
        "Ex: Any brands wanting me to review BEAUTY products on my blog? mail me at: ladolcevitainluxembourg@hotmail.com #prrequest #journorequest :)'\n",
        "\n",
        "\n",
        "1.   Removing email addresses, hyperlinks, hashtags, RT(retweets)\n",
        "\n",
        "Ex: Any brands wanting me to review BEAUTY products on my blog? mail me at:  prrequest journorequest :)\n",
        "\n",
        "2.   Tokenization\n",
        "\n",
        "Ex: ['any', 'brands', 'wanting', 'me', 'to', 'review', 'beauty', 'products', 'on', 'my', 'blog', '?', 'mail', 'me', 'at', ':', 'prrequest', 'journorequest', ':)']\n",
        "\n",
        "3.   Removing stopwords but keeping emoticon\n",
        "\n",
        "Ex: ['brands', 'wanting', 'review', 'beauty', 'products', 'blog', '?', 'mail' ':', 'prrequest', 'journorequest', ':)']\n",
        "\n",
        "4.   Stemming\n",
        "\n",
        "Ex: ['brand', 'want', 'review', 'beauti', 'product', 'blog', '?', 'mail', ':', 'prrequest', 'journorequest', ':)']\n",
        "\n",
        "\n"
      ]
    }
  ]
}